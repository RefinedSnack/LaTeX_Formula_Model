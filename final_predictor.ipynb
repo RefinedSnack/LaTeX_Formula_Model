{
 "cells": [
  {
   "cell_type": "code",
   "execution_count": 1,
   "metadata": {},
   "outputs": [
    {
     "name": "stdout",
     "output_type": "stream",
     "text": [
      "WARNING:tensorflow:From c:\\Users\\walte\\AppData\\Local\\Programs\\Python\\Python311\\Lib\\site-packages\\keras\\src\\losses.py:2976: The name tf.losses.sparse_softmax_cross_entropy is deprecated. Please use tf.compat.v1.losses.sparse_softmax_cross_entropy instead.\n",
      "\n"
     ]
    }
   ],
   "source": [
    "import tensorflow as tf\n",
    "from PIL import Image\n",
    "import numpy as np\n",
    "from configs import *\n",
    "from image_segmenter import segment_img\n",
    "import matplotlib.pyplot as plt\n",
    "\n",
    "\n",
    "class_labels = ['0','1','2','3','4','5','6','7','8','9',r'\\div','dot',r'\\downarrow',r'\\leftarrow',r'\\leftrightarrow',r'\\times','+',r'\\rightarrow','-', r'\\uparrow',r'\\updownarrow','x','y','z']\n",
    "\n",
    "mod: tf.saved_model = None\n",
    "def identify_image(file) -> tuple[str, float]:\n",
    "    global mod\n",
    "    if mod == None:\n",
    "        # mod = tf.saved_model.load('exported_model')\n",
    "        mod = tf.saved_model.load('saved_model')\n",
    "    image = Image.open(file).resize((224,224))\n",
    "    image = np.expand_dims(np.array(image), axis=0) #adds batch dimensions and convert to numpy array\n",
    "    image = image / 255.0 # Normalize pixel values to [0,1]\n",
    "\n",
    "    #convert image to tf.Tensor\n",
    "    image = tf.convert_to_tensor(image, dtype=tf.float32)\n",
    "\n",
    "    prediction = mod(image)\n",
    "    max_index = tf.argmax(prediction, axis=1)\n",
    "    max_value = tf.reduce_max(prediction) \n",
    "    Mi = max_index.numpy()\n",
    "    Mv = max_value.numpy()   \n",
    "    max_index = tf.argmax(prediction, axis = 1)\n",
    "    predict_class_index = Mi[0]\n",
    "    predict_class = class_labels[predict_class_index]\n",
    "\n",
    "    return (predict_class, Mv)\n",
    "\n",
    "def convert_to_LaTeX(png_file_path, print_stuff=True) -> str:\n",
    "    # segement\n",
    "    num_parts: int = segment_img(png_file_path, \"temp_dir\", delete_if_exists=True, boarder_size=3)\n",
    "    # identify each part\n",
    "    parts_classes: list[str] = []\n",
    "    for i in range(num_parts):\n",
    "        png_part = f\"temp_dir\\\\symbol_{i}.png\"\n",
    "        x_class, y = identify_image(png_part)\n",
    "        # print(str(x_class) + \" confidence: \" + str(y))\n",
    "        # continue\n",
    "        parts_classes.append(x_class)\n",
    "    # combine\n",
    "    parts_classes = [x for x in parts_classes]\n",
    "    if print_stuff: print(f'{\" \".join(parts_classes)}')\n",
    "\n",
    "\n"
   ]
  },
  {
   "cell_type": "markdown",
   "metadata": {},
   "source": [
    "This is a markdown cell (evil)"
   ]
  },
  {
   "cell_type": "code",
   "execution_count": 2,
   "metadata": {},
   "outputs": [
    {
     "name": "stdout",
     "output_type": "stream",
     "text": [
      "6 \\leftarrow 6 \\leftrightarrow dot 6\n"
     ]
    }
   ],
   "source": [
    "convert_to_LaTeX(r'C:\\Users\\walte\\Documents\\cs470\\Final_Project\\png_dataset\\2033.png')"
   ]
  },
  {
   "cell_type": "code",
   "execution_count": 3,
   "metadata": {},
   "outputs": [],
   "source": [
    "import csv\n",
    "\n",
    "def csv_to_dict(csv_file) -> dict[str, str]:\n",
    "    result_dict = {}\n",
    "    with open(csv_file, 'r') as file:\n",
    "        csv_reader = csv.reader(file)\n",
    "        for row in csv_reader:\n",
    "            if len(row) == 2:\n",
    "                try:\n",
    "                    key = row[0]  # Assuming the first column contains integers\n",
    "                    value = row[1]\n",
    "                    result_dict[key] = value\n",
    "                except ValueError:\n",
    "                    print(\"Skipping row:\", row, \" - First column is not an integer.\")\n",
    "            else:\n",
    "                print(\"Skipping row:\", row, \" - Expected 2 columns.\")\n",
    "    return result_dict\n"
   ]
  },
  {
   "cell_type": "code",
   "execution_count": 4,
   "metadata": {},
   "outputs": [
    {
     "name": "stderr",
     "output_type": "stream",
     "text": [
      "C:\\Users\\walte\\AppData\\Local\\Temp\\ipykernel_15936\\2038173054.py:1: DeprecationWarning: 'cgi' is deprecated and slated for removal in Python 3.13\n",
      "  from cgi import test\n"
     ]
    }
   ],
   "source": [
    "from cgi import test\n",
    "import os\n",
    "def test_accuracy():\n",
    "    dataset_path: str = r'C:\\Users\\walte\\Documents\\cs470\\Final_Project\\archive\\dataset_4 BIGGER latex equations (arrows)\\png_dataset'\n",
    "    key_path: str = r'C:\\Users\\walte\\Documents\\cs470\\Final_Project\\key.csv'\n",
    "    csv_dict: dict[str, str] = csv_to_dict(key_path)\n",
    "    num_success: int  =0\n",
    "    num_files: int = 0\n",
    "    # Iterate over files in the directory\n",
    "    for filename in os.listdir(dataset_path):\n",
    "        file_path = os.path.join(dataset_path, filename)\n",
    "        # Check if the file is a PNG file\n",
    "        if not os.path.isfile(file_path) or not filename.endswith('.png'):\n",
    "            continue\n",
    "        result: str = convert_to_LaTeX(file_path, print_stuff=False)\n",
    "        expected: str = csv_dict[filename[:-4]]\n",
    "        if result == expected: num_success += 1\n",
    "        num_files += 1\n",
    "    print(f\"accuracy: {num_success} / {num_files} = {float(num_success)/float(num_files)}\")\n",
    "test_accuracy()\n",
    "        "
   ]
  }
 ],
 "metadata": {
  "kernelspec": {
   "display_name": "Python 3",
   "language": "python",
   "name": "python3"
  },
  "language_info": {
   "codemirror_mode": {
    "name": "ipython",
    "version": 3
   },
   "file_extension": ".py",
   "mimetype": "text/x-python",
   "name": "python",
   "nbconvert_exporter": "python",
   "pygments_lexer": "ipython3",
   "version": "3.11.7"
  }
 },
 "nbformat": 4,
 "nbformat_minor": 2
}
