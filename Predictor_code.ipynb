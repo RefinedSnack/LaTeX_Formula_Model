{
 "cells": [
  {
   "cell_type": "code",
   "execution_count": 1,
   "id": "58ba2925",
   "metadata": {
    "scrolled": true
   },
   "outputs": [
    {
     "name": "stdout",
     "output_type": "stream",
     "text": [
      "WARNING:tensorflow:From C:\\Users\\Connor\\anaconda3\\lib\\site-packages\\keras\\src\\losses.py:2976: The name tf.losses.sparse_softmax_cross_entropy is deprecated. Please use tf.compat.v1.losses.sparse_softmax_cross_entropy instead.\n",
      "\n"
     ]
    }
   ],
   "source": [
    "import tensorflow as tf\n",
    "from PIL import Image\n",
    "import numpy as np\n",
    "import configs\n",
    "\n",
    "#load the training model\n",
    "mod = tf.saved_model.load('./trained_model/')\n",
    "class_Labels = ['0','1','2','3','4','5','6','7','8','9','division','dot','downarrow','leftarrow','leftrightarrow','multiplication','plus','rightarrow','subtraction', 'uparrow','updownarrow','x','y','z']\n",
    "\n"
   ]
  },
  {
   "cell_type": "code",
   "execution_count": 2,
   "id": "c0a72e51",
   "metadata": {},
   "outputs": [],
   "source": [
    "def Identifier(pic_loc):\n",
    "    image = Image.open(pic_loc).resize((224,224)) #import and resize the impage\n",
    "    image = np.expand_dims(np.array(image), axis=0) #adds batch dimensions and convert to numpy array\n",
    "    image = image / 255.0 # Normalize pixel values to [0,1]\n",
    "    image = tf.convert_to_tensor(image, dtype=tf.float32)\n",
    "    prediction = mod(image)\n",
    "    max_index = tf.argmax(prediction, axis = 1)\n",
    "    max_value=  tf.reduce_max(prediction)\n",
    "    Mi = max_index.numpy()\n",
    "    Mv = max_value.numpy()\n",
    "    predicted_class_index = Mi[0] #Extracting the index from numpy array\n",
    "    predicted_class = class_Labels[predicted_class_index] #Mapping index to class label\n",
    "    return(predicted_class, Mv)\n"
   ]
  },
  {
   "cell_type": "code",
   "execution_count": 8,
   "id": "11538196",
   "metadata": {},
   "outputs": [
    {
     "ename": "AttributeError",
     "evalue": "'_UserObject' object has no attribute 'summary'",
     "output_type": "error",
     "traceback": [
      "\u001b[1;31m---------------------------------------------------------------------------\u001b[0m",
      "\u001b[1;31mAttributeError\u001b[0m                            Traceback (most recent call last)",
      "\u001b[1;32m~\\AppData\\Local\\Temp/ipykernel_20008/1386494622.py\u001b[0m in \u001b[0;36m<module>\u001b[1;34m\u001b[0m\n\u001b[1;32m----> 1\u001b[1;33m \u001b[0mmod\u001b[0m\u001b[1;33m.\u001b[0m\u001b[0msummary\u001b[0m\u001b[1;33m(\u001b[0m\u001b[1;33m)\u001b[0m\u001b[1;33m\u001b[0m\u001b[1;33m\u001b[0m\u001b[0m\n\u001b[0m",
      "\u001b[1;31mAttributeError\u001b[0m: '_UserObject' object has no attribute 'summary'"
     ]
    }
   ],
   "source": []
  },
  {
   "cell_type": "code",
   "execution_count": 8,
   "id": "2c48d4ed",
   "metadata": {},
   "outputs": [
    {
     "name": "stdout",
     "output_type": "stream",
     "text": [
      "Prediction =  0 Probability =  0.99972457\n",
      "Prediction =  1 Probability =  1.0\n",
      "Prediction =  2 Probability =  1.0\n",
      "Prediction =  3 Probability =  1.0\n",
      "Prediction =  4 Probability =  1.0\n",
      "Prediction =  5 Probability =  1.0\n",
      "Prediction =  6 Probability =  1.0\n",
      "Prediction =  7 Probability =  0.99999726\n",
      "Prediction =  8 Probability =  0.9999975\n",
      "Prediction =  9 Probability =  0.9999918\n",
      "Prediction =  division Probability =  0.9999957\n",
      "Prediction =  dot Probability =  0.9996929\n",
      "Prediction =  downarrow Probability =  0.999972\n",
      "Prediction =  leftarrow Probability =  0.9999523\n",
      "Prediction =  leftrightarrow Probability =  0.9998258\n",
      "Prediction =  multiplication Probability =  1.0\n",
      "Prediction =  plus Probability =  0.9998716\n",
      "Prediction =  rightarrow Probability =  1.0\n",
      "Prediction =  subtraction Probability =  0.96362966\n",
      "Prediction =  uparrow Probability =  0.99998677\n",
      "Prediction =  updownarrow Probability =  0.9999975\n",
      "Prediction =  x Probability =  0.9999999\n",
      "Prediction =  y Probability =  0.99999976\n",
      "Prediction =  z Probability =  0.99999917\n"
     ]
    }
   ],
   "source": [
    "path = r'C:\\Users\\Connor\\Documents\\Machine_Learning\\Project\\Project_code\\LaTeX_Formula_Model\\dataset_4 Bigger latex equation (arrows)\\test'\n",
    "\n",
    "zero = path+r'\\0\\0037_0.png'\n",
    "Preddy = Identifier(zero)\n",
    "print('Prediction = ', Preddy[0], 'Probability = ', Preddy[1])\n",
    "\n",
    "one = path+r'\\1\\0111_1.png'\n",
    "Preddy = Identifier(one)\n",
    "print('Prediction = ', Preddy[0], 'Probability = ', Preddy[1])\n",
    "\n",
    "two = path+r'\\2\\0118_1.png'\n",
    "Preddy = Identifier(two)\n",
    "print('Prediction = ', Preddy[0], 'Probability = ', Preddy[1])\n",
    "\n",
    "three = path+r'\\3\\0046_0.png'\n",
    "Preddy = Identifier(three)\n",
    "print('Prediction = ', Preddy[0], 'Probability = ', Preddy[1])\n",
    "\n",
    "four = path+r'\\4\\0166_0.png'\n",
    "Preddy = Identifier(four)\n",
    "print('Prediction = ', Preddy[0], 'Probability = ', Preddy[1])\n",
    "\n",
    "five = path+r'\\5\\0097_1.png'\n",
    "Preddy = Identifier(five)\n",
    "print('Prediction = ', Preddy[0], 'Probability = ', Preddy[1])\n",
    "\n",
    "six = path+r'\\6\\0056_0.png'\n",
    "Preddy = Identifier(six)\n",
    "print('Prediction = ', Preddy[0], 'Probability = ', Preddy[1])\n",
    "\n",
    "seven = path+r'\\7\\0068_1.png'\n",
    "Preddy = Identifier(seven)\n",
    "print('Prediction = ', Preddy[0], 'Probability = ', Preddy[1])\n",
    "\n",
    "eight = path+r'\\8\\0124_1.png'\n",
    "Preddy = Identifier(eight)\n",
    "print('Prediction = ', Preddy[0], 'Probability = ', Preddy[1])\n",
    "\n",
    "nine = path+r'\\9\\0043_1.png'\n",
    "Preddy = Identifier(nine)\n",
    "print('Prediction = ', Preddy[0], 'Probability = ', Preddy[1])\n",
    "\n",
    "div = path+r'\\division\\0066_1.png'\n",
    "Preddy = Identifier(div)\n",
    "print('Prediction = ', Preddy[0], 'Probability = ', Preddy[1])\n",
    "\n",
    "dot = path+r'\\dot\\0060_0.png'\n",
    "Preddy = Identifier(dot)\n",
    "print('Prediction = ', Preddy[0], 'Probability = ', Preddy[1])\n",
    "\n",
    "DA = path+r'\\downarrow\\0049_0.png'\n",
    "Preddy = Identifier(DA)\n",
    "print('Prediction = ', Preddy[0], 'Probability = ', Preddy[1])\n",
    "\n",
    "LA = path+r'\\leftarrow\\0064_0.png'\n",
    "Preddy = Identifier(LA)\n",
    "print('Prediction = ', Preddy[0], 'Probability = ', Preddy[1])\n",
    "\n",
    "LRA = path+r'\\leftrightarrow\\0090_1.png'\n",
    "Preddy = Identifier(LRA)\n",
    "print('Prediction = ', Preddy[0], 'Probability = ', Preddy[1])\n",
    "\n",
    "mult = path+r'\\multiplication\\0101_1.png'\n",
    "Preddy = Identifier(mult)\n",
    "print('Prediction = ', Preddy[0], 'Probability = ', Preddy[1])\n",
    "\n",
    "plus = path+r'\\plus\\0076_1.png'\n",
    "Preddy = Identifier(plus)\n",
    "print('Prediction = ', Preddy[0], 'Probability = ', Preddy[1])\n",
    "\n",
    "RA = path+r'\\rightarrow\\0080_0.png'\n",
    "Preddy = Identifier(RA)\n",
    "print('Prediction = ', Preddy[0], 'Probability = ', Preddy[1])\n",
    "\n",
    "sub = path+r'\\subtraction\\0061_1.png'\n",
    "Preddy = Identifier(sub)\n",
    "print('Prediction = ', Preddy[0], 'Probability = ', Preddy[1])\n",
    "\n",
    "UA = path+r'\\uparrow\\0052_0.png'\n",
    "Preddy = Identifier(UA)\n",
    "print('Prediction = ', Preddy[0], 'Probability = ', Preddy[1])\n",
    "\n",
    "UDA = path+r'\\updownarrow\\0078_0.png'\n",
    "Preddy = Identifier(UDA)\n",
    "print('Prediction = ', Preddy[0], 'Probability = ', Preddy[1])\n",
    "\n",
    "x = path+r'\\x\\0089_0.png'\n",
    "Preddy = Identifier(x)\n",
    "print('Prediction = ', Preddy[0], 'Probability = ', Preddy[1])\n",
    "\n",
    "y = path+r'\\y\\0091_1.png'\n",
    "Preddy = Identifier(y)\n",
    "print('Prediction = ', Preddy[0], 'Probability = ', Preddy[1])\n",
    "\n",
    "z = path+r'\\z\\0077_1.png'\n",
    "Preddy = Identifier(z)\n",
    "print('Prediction = ', Preddy[0], 'Probability = ', Preddy[1])\n",
    "# for i in range(24):\n",
    "#     if (i < 10):\n",
    "#         var = path+f'000{i}.png'\n",
    "#         Preddy = Identifier(var)\n",
    "#         print('Prediction = ', Preddy[0], 'Probability = ', Preddy[1])\n",
    "#     elif (i>=10) and (i<24):\n",
    "#         var = path+f'00{i}.png'\n",
    "#         Preddy = Identifier(var)\n",
    "#         print('Prediction = ', Preddy[0], 'Probability = ', Preddy[1])\n",
    "#     else:\n",
    "#         print('Your index has issues')\n"
   ]
  },
  {
   "cell_type": "code",
   "execution_count": 13,
   "id": "4b747afa",
   "metadata": {},
   "outputs": [
    {
     "name": "stdout",
     "output_type": "stream",
     "text": [
      "0.9943661971830986\n"
     ]
    }
   ],
   "source": [
    "from PIL import Image, ImageOps\n",
    "import os\n",
    "from pathlib import Path\n",
    "\n",
    "def load_data(tag='dataset_4 Bigger latex equation (arrows)\\test'):\n",
    "    \"\"\"Load (training/test) data from the directory.\n",
    "    Also do preprocessing of extra features. \n",
    "    \"\"\"\n",
    "    tag_dir = Path.cwd() / tag\n",
    "    vec = []\n",
    "    cat = []\n",
    "    for cat_dir in tag_dir.iterdir():\n",
    "        cat_label = cat_dir.stem\n",
    "        for img_path in cat_dir.glob('*.png'):\n",
    "            feature = img_path\n",
    "            vec.append(feature)\n",
    "            cat.append(cat_label)\n",
    "    return vec, cat\n",
    "tag = r'dataset_4 Bigger latex equation (arrows)\\test'\n",
    "vec, cat = load_data(tag)\n",
    "corr=0\n",
    "Ts = len(cat)\n",
    "for i in range(len(vec)):\n",
    "    Preddy = Identifier(vec[i])\n",
    "    if Preddy[0]==cat[i]:\n",
    "        corr +=1\n",
    "accuracy = corr/Ts\n",
    "print(accuracy)"
   ]
  }
 ],
 "metadata": {
  "kernelspec": {
   "display_name": "Python 3 (ipykernel)",
   "language": "python",
   "name": "python3"
  },
  "language_info": {
   "codemirror_mode": {
    "name": "ipython",
    "version": 3
   },
   "file_extension": ".py",
   "mimetype": "text/x-python",
   "name": "python",
   "nbconvert_exporter": "python",
   "pygments_lexer": "ipython3",
   "version": "3.9.7"
  }
 },
 "nbformat": 4,
 "nbformat_minor": 5
}
