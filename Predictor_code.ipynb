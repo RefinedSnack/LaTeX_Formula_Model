{
 "cells": [
  {
   "cell_type": "code",
   "execution_count": 6,
   "id": "58ba2925",
   "metadata": {
    "scrolled": true
   },
   "outputs": [],
   "source": [
    "import tensorflow as tf\n",
    "from PIL import Image\n",
    "import numpy as np\n",
    "import configs\n",
    "\n",
    "#load the training model\n",
    "mod = tf.saved_model.load('./trained_model/')\n",
    "\n"
   ]
  },
  {
   "cell_type": "code",
   "execution_count": 7,
   "id": "c0a72e51",
   "metadata": {},
   "outputs": [],
   "source": [
    "def Identifier(pic_loc):\n",
    "    image = Image.open(pic_loc).resize((224,224)) #import and resize the impage\n",
    "    image = np.expand_dims(np.array(image), axis=0) #adds batch dimensions and convert to numpy array\n",
    "    image = image / 255.0 # Normalize pixel values to [0,1]\n",
    "    image = tf.convert_to_tensor(image, dtype=tf.float32)\n",
    "    prediction = mod(image)\n",
    "    max_index = tf.argmax(prediction, axis = 1)\n",
    "    max_value=  tf.reduce_max(prediction)\n",
    "    Mi = max_index.numpy()\n",
    "    Mv = max_value.numpy()\n",
    "    return(Mi, Mv)\n"
   ]
  },
  {
   "cell_type": "code",
   "execution_count": 8,
   "id": "11538196",
   "metadata": {},
   "outputs": [
    {
     "ename": "AttributeError",
     "evalue": "'_UserObject' object has no attribute 'summary'",
     "output_type": "error",
     "traceback": [
      "\u001b[1;31m---------------------------------------------------------------------------\u001b[0m",
      "\u001b[1;31mAttributeError\u001b[0m                            Traceback (most recent call last)",
      "\u001b[1;32m~\\AppData\\Local\\Temp/ipykernel_20008/1386494622.py\u001b[0m in \u001b[0;36m<module>\u001b[1;34m\u001b[0m\n\u001b[1;32m----> 1\u001b[1;33m \u001b[0mmod\u001b[0m\u001b[1;33m.\u001b[0m\u001b[0msummary\u001b[0m\u001b[1;33m(\u001b[0m\u001b[1;33m)\u001b[0m\u001b[1;33m\u001b[0m\u001b[1;33m\u001b[0m\u001b[0m\n\u001b[0m",
      "\u001b[1;31mAttributeError\u001b[0m: '_UserObject' object has no attribute 'summary'"
     ]
    }
   ],
   "source": []
  },
  {
   "cell_type": "code",
   "execution_count": 9,
   "id": "2c48d4ed",
   "metadata": {},
   "outputs": [
    {
     "name": "stdout",
     "output_type": "stream",
     "text": [
      "Z =  [1]\n",
      "x =  [1]\n",
      "y =  [1]\n",
      "- =  [1]\n",
      "+ =  [17]\n",
      "multiply =  [1]\n",
      "divide =  [1]\n",
      "dot =  [1]\n"
     ]
    }
   ],
   "source": [
    "z = r\"C:\\Users\\Connor\\Documents\\Machine_Learning\\Project\\Project_code\\LaTeX_Formula_Model\\dataset_2 latex equations (simple_handwriting classes) (1)\\dataset_2 latex equations (simple_handwriting classes)\\png_dataset\\0017.png\"\n",
    "print('Z = ', Identifier(z)[0])\n",
    "x = r\"C:\\Users\\Connor\\Documents\\Machine_Learning\\Project\\Project_code\\LaTeX_Formula_Model\\dataset_2 latex equations (simple_handwriting classes) (1)\\dataset_2 latex equations (simple_handwriting classes)\\png_dataset\\0015.png\"\n",
    "print('x = ', Identifier(x)[0])\n",
    "y= r\"C:\\Users\\Connor\\Documents\\Machine_Learning\\Project\\Project_code\\LaTeX_Formula_Model\\dataset_2 latex equations (simple_handwriting classes) (1)\\dataset_2 latex equations (simple_handwriting classes)\\png_dataset\\0016.png\"\n",
    "print('y = ', Identifier(y)[0])\n",
    "minus = r\"C:\\Users\\Connor\\Documents\\Machine_Learning\\Project\\Project_code\\LaTeX_Formula_Model\\dataset_2 latex equations (simple_handwriting classes) (1)\\dataset_2 latex equations (simple_handwriting classes)\\png_dataset\\0011.png\"\n",
    "print('- = ', Identifier(minus)[0])\n",
    "plus = r\"C:\\Users\\Connor\\Documents\\Machine_Learning\\Project\\Project_code\\LaTeX_Formula_Model\\dataset_2 latex equations (simple_handwriting classes) (1)\\dataset_2 latex equations (simple_handwriting classes)\\png_dataset\\0010.png\"\n",
    "print('+ = ', Identifier(plus)[0])\n",
    "mult = r\"C:\\Users\\Connor\\Documents\\Machine_Learning\\Project\\Project_code\\LaTeX_Formula_Model\\dataset_2 latex equations (simple_handwriting classes) (1)\\dataset_2 latex equations (simple_handwriting classes)\\png_dataset\\0013.png\"\n",
    "print('multiply = ', Identifier(mult)[0])\n",
    "div = r\"C:\\Users\\Connor\\Documents\\Machine_Learning\\Project\\Project_code\\LaTeX_Formula_Model\\dataset_2 latex equations (simple_handwriting classes) (1)\\dataset_2 latex equations (simple_handwriting classes)\\png_dataset\\0012.png\"\n",
    "print('divide = ', Identifier(div)[0])\n",
    "dot = r\"C:\\Users\\Connor\\Documents\\Machine_Learning\\Project\\Project_code\\LaTeX_Formula_Model\\dataset_2 latex equations (simple_handwriting classes) (1)\\dataset_2 latex equations (simple_handwriting classes)\\png_dataset\\0014.png\"\n",
    "print('dot = ', Identifier(dot)[0])\n"
   ]
  },
  {
   "cell_type": "code",
   "execution_count": 10,
   "id": "4b747afa",
   "metadata": {},
   "outputs": [
    {
     "ename": "AttributeError",
     "evalue": "'_UserObject' object has no attribute 'summary'",
     "output_type": "error",
     "traceback": [
      "\u001b[1;31m---------------------------------------------------------------------------\u001b[0m",
      "\u001b[1;31mAttributeError\u001b[0m                            Traceback (most recent call last)",
      "\u001b[1;32m~\\AppData\\Local\\Temp/ipykernel_20008/1386494622.py\u001b[0m in \u001b[0;36m<module>\u001b[1;34m\u001b[0m\n\u001b[1;32m----> 1\u001b[1;33m \u001b[0mmod\u001b[0m\u001b[1;33m.\u001b[0m\u001b[0msummary\u001b[0m\u001b[1;33m(\u001b[0m\u001b[1;33m)\u001b[0m\u001b[1;33m\u001b[0m\u001b[1;33m\u001b[0m\u001b[0m\n\u001b[0m",
      "\u001b[1;31mAttributeError\u001b[0m: '_UserObject' object has no attribute 'summary'"
     ]
    }
   ],
   "source": []
  }
 ],
 "metadata": {
  "kernelspec": {
   "display_name": "Python 3 (ipykernel)",
   "language": "python",
   "name": "python3"
  },
  "language_info": {
   "codemirror_mode": {
    "name": "ipython",
    "version": 3
   },
   "file_extension": ".py",
   "mimetype": "text/x-python",
   "name": "python",
   "nbconvert_exporter": "python",
   "pygments_lexer": "ipython3",
   "version": "3.9.7"
  }
 },
 "nbformat": 4,
 "nbformat_minor": 5
}
