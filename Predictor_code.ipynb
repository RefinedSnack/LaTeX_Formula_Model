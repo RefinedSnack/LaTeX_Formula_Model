{
 "cells": [
  {
   "cell_type": "code",
   "execution_count": 5,
   "id": "58ba2925",
   "metadata": {
    "scrolled": true
   },
   "outputs": [
    {
     "name": "stdout",
     "output_type": "stream",
     "text": [
      "tf.Tensor(\n",
      "[[3.15349437e-02 9.24557269e-01 1.61144315e-04 3.68214736e-04\n",
      "  6.11883370e-05 5.65811177e-04 3.66015411e-05 1.05362041e-02\n",
      "  1.26941795e-05 1.17506308e-04 3.94479750e-04 4.44818987e-03\n",
      "  9.64346782e-07 4.38675890e-03 2.24223157e-04 7.65085546e-03\n",
      "  1.12758148e-02 3.43908020e-03 2.28079312e-04]], shape=(1, 19), dtype=float32)\n"
     ]
    }
   ],
   "source": [
    "import tensorflow as tf\n",
    "from PIL import Image\n",
    "import numpy as np\n",
    "#load the training model\n",
    "mod = tf.saved_model.load('./trained_model/')\n",
    "\n",
    "#load and access the image\n",
    "picloc = \"./png_training_data/train/one_symbols/0001.png\"\n",
    "image = Image.open(picloc).resize((224,224)) #import and resize the impage\n",
    "image.show()\n",
    "image = np.expand_dims(np.array(image), axis=0) #adds batch dimensions and convert to numpy array\n",
    "image = image / 255.0 # Normalize pixel values to [0,1]\n",
    "\n",
    "#convert image to tf.Tensor\n",
    "image = tf.convert_to_tensor(image, dtype=tf.float32)\n",
    "\n",
    "#make prediction\n",
    "prediction = mod(image)\n",
    "print(prediction)"
   ]
  },
  {
   "cell_type": "code",
   "execution_count": 7,
   "id": "2c48d4ed",
   "metadata": {},
   "outputs": [
    {
     "name": "stdout",
     "output_type": "stream",
     "text": [
      "Index of largest value:  [1]\n",
      "Largest value:  0.92455727\n"
     ]
    }
   ],
   "source": [
    "max_index = tf.argmax(prediction, axis = 1)\n",
    "max_value=  tf.reduce_max(prediction)\n",
    "print('Index of largest value: ', max_index.numpy())\n",
    "print('Largest value: ', max_value.numpy())"
   ]
  },
  {
   "cell_type": "code",
   "execution_count": 9,
   "id": "4e33640a",
   "metadata": {},
   "outputs": [
    {
     "name": "stdout",
     "output_type": "stream",
     "text": [
      "94.35634829266232\n"
     ]
    }
   ],
   "source": []
  }
 ],
 "metadata": {
  "kernelspec": {
   "display_name": "Python 3 (ipykernel)",
   "language": "python",
   "name": "python3"
  },
  "language_info": {
   "codemirror_mode": {
    "name": "ipython",
    "version": 3
   },
   "file_extension": ".py",
   "mimetype": "text/x-python",
   "name": "python",
   "nbconvert_exporter": "python",
   "pygments_lexer": "ipython3",
   "version": "3.9.7"
  }
 },
 "nbformat": 4,
 "nbformat_minor": 5
}
